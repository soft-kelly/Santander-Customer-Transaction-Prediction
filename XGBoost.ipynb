{
 "cells": [
  {
   "cell_type": "code",
   "execution_count": 1,
   "metadata": {
    "_cell_guid": "b1076dfc-b9ad-4769-8c92-a6c4dae69d19",
    "_uuid": "8f2839f25d086af736a60e9eeb907d3b93b6e0e5"
   },
   "outputs": [],
   "source": [
    "import numpy as np \n",
    "import pandas as pd \n",
    "import gc\n",
    "import seaborn as sns\n",
    "import matplotlib.pyplot as plt\n",
    "import warnings\n",
    "warnings.filterwarnings('ignore')\n",
    "from sklearn.model_selection import StratifiedKFold\n",
    "from sklearn.metrics import roc_auc_score, f1_score, cohen_kappa_score, precision_score, recall_score, confusion_matrix\n",
    "import xgboost as xgb"
   ]
  },
  {
   "cell_type": "code",
   "execution_count": 2,
   "metadata": {
    "_uuid": "b5b6ee764a85b28ff5aa8b5ae1abc59a813379f7"
   },
   "outputs": [],
   "source": [
    "train_df = pd.read_csv(\"train.csv\")\n",
    "test_df = pd.read_csv(\"test.csv\")"
   ]
  },
  {
   "cell_type": "code",
   "execution_count": 6,
   "metadata": {
    "_uuid": "5e0460129fcbfa01086a2e41b8a08ce3c98df2b0"
   },
   "outputs": [],
   "source": [
    "train_cols = [c for c in train_df.columns if c not in [\"ID_code\", \"target\"]]\n",
    "y_train = train_df[\"target\"]"
   ]
  },
  {
   "cell_type": "code",
   "execution_count": 8,
   "metadata": {
    "_uuid": "69cc8d5ce212df429caaca267cffaa0cc850730c"
   },
   "outputs": [],
   "source": [
    "folds = StratifiedKFold(n_splits=5, shuffle=True, random_state=1001)"
   ]
  },
  {
   "cell_type": "code",
   "execution_count": 9,
   "metadata": {
    "_uuid": "95cf1b2a7929950096dc3c1e383cc3f8b89dcc35"
   },
   "outputs": [],
   "source": [
    "# By Bayesian Hyperparameter Optimization\n",
    "params = {'tree_method': 'hist',\n",
    " 'objective': 'binary:logistic',\n",
    " 'eval_metric': 'auc',\n",
    " 'learning_rate': 0.0936165921314771,\n",
    " 'max_depth': 2,\n",
    " 'colsample_bytree': 0.3561271102144279,\n",
    " 'subsample': 0.8246604621518232,\n",
    " 'min_child_weight': 53,\n",
    " 'gamma': 9.943467991283027,\n",
    " 'silent': 1}"
   ]
  },
  {
   "cell_type": "code",
   "execution_count": 10,
   "metadata": {
    "_uuid": "bdc41dce0eddedd0f06e830fecad715b9f484b1b",
    "scrolled": true
   },
   "outputs": [
    {
     "name": "stdout",
     "output_type": "stream",
     "text": [
      "[0]\tTrain-auc:0.581105\tVal-auc:0.573174\n",
      "Multiple eval metrics have been passed: 'Val-auc' will be used for early stopping.\n",
      "\n",
      "Will train until Val-auc hasn't improved in 400 rounds.\n",
      "[500]\tTrain-auc:0.897606\tVal-auc:0.879851\n",
      "[1000]\tTrain-auc:0.916257\tVal-auc:0.892997\n",
      "[1500]\tTrain-auc:0.923435\tVal-auc:0.896094\n",
      "[2000]\tTrain-auc:0.926792\tVal-auc:0.897124\n",
      "[2500]\tTrain-auc:0.928692\tVal-auc:0.897144\n",
      "[3000]\tTrain-auc:0.929838\tVal-auc:0.897415\n",
      "Stopping. Best iteration:\n",
      "[3050]\tTrain-auc:0.929939\tVal-auc:0.897454\n",
      "\n",
      "\n",
      "Fold 1 AUC 0.897386 & std 0.169979\n",
      "Fold 1 Precision 0.755238\n",
      "Fold 1 Recall 0.367662\n",
      "Fold 1 F1 score 0.494562\n",
      "Fold 1 Kappa score 0.458956\n",
      "\n",
      "[0]\tTrain-auc:0.578702\tVal-auc:0.570255\n",
      "Multiple eval metrics have been passed: 'Val-auc' will be used for early stopping.\n",
      "\n",
      "Will train until Val-auc hasn't improved in 400 rounds.\n",
      "[500]\tTrain-auc:0.898251\tVal-auc:0.876441\n",
      "[1000]\tTrain-auc:0.916242\tVal-auc:0.890981\n",
      "[1500]\tTrain-auc:0.923431\tVal-auc:0.895461\n",
      "[2000]\tTrain-auc:0.926737\tVal-auc:0.896889\n",
      "[2500]\tTrain-auc:0.928459\tVal-auc:0.897076\n",
      "[3000]\tTrain-auc:0.929723\tVal-auc:0.897421\n",
      "[3500]\tTrain-auc:0.930631\tVal-auc:0.897482\n",
      "Stopping. Best iteration:\n",
      "[3260]\tTrain-auc:0.930186\tVal-auc:0.897552\n",
      "\n",
      "\n",
      "Fold 2 AUC 0.897500 & std 0.170720\n",
      "Fold 2 Precision 0.765317\n",
      "Fold 2 Recall 0.366667\n",
      "Fold 2 F1 score 0.495795\n",
      "Fold 2 Kappa score 0.460683\n",
      "\n",
      "[0]\tTrain-auc:0.577706\tVal-auc:0.582836\n",
      "Multiple eval metrics have been passed: 'Val-auc' will be used for early stopping.\n",
      "\n",
      "Will train until Val-auc hasn't improved in 400 rounds.\n",
      "[500]\tTrain-auc:0.898504\tVal-auc:0.877903\n",
      "[1000]\tTrain-auc:0.916193\tVal-auc:0.891286\n",
      "[1500]\tTrain-auc:0.923314\tVal-auc:0.895326\n",
      "[2000]\tTrain-auc:0.926545\tVal-auc:0.896906\n",
      "[2500]\tTrain-auc:0.928295\tVal-auc:0.897392\n",
      "[3000]\tTrain-auc:0.929377\tVal-auc:0.897565\n",
      "[3500]\tTrain-auc:0.930299\tVal-auc:0.897644\n",
      "[4000]\tTrain-auc:0.93117\tVal-auc:0.897753\n",
      "Stopping. Best iteration:\n",
      "[3666]\tTrain-auc:0.930629\tVal-auc:0.897783\n",
      "\n",
      "\n",
      "Fold 3 AUC 0.897754 & std 0.172173\n",
      "Fold 3 Precision 0.742843\n",
      "Fold 3 Recall 0.374378\n",
      "Fold 3 F1 score 0.497850\n",
      "Fold 3 Kappa score 0.461585\n",
      "\n",
      "[0]\tTrain-auc:0.549759\tVal-auc:0.548248\n",
      "Multiple eval metrics have been passed: 'Val-auc' will be used for early stopping.\n",
      "\n",
      "Will train until Val-auc hasn't improved in 400 rounds.\n",
      "[500]\tTrain-auc:0.897986\tVal-auc:0.880393\n",
      "[1000]\tTrain-auc:0.915827\tVal-auc:0.894269\n",
      "[1500]\tTrain-auc:0.922756\tVal-auc:0.89848\n",
      "[2000]\tTrain-auc:0.926267\tVal-auc:0.899582\n",
      "[2500]\tTrain-auc:0.928156\tVal-auc:0.899919\n",
      "[3000]\tTrain-auc:0.929275\tVal-auc:0.90004\n",
      "Stopping. Best iteration:\n",
      "[3082]\tTrain-auc:0.929459\tVal-auc:0.900142\n",
      "\n",
      "\n",
      "Fold 4 AUC 0.900086 & std 0.168511\n",
      "Fold 4 Precision 0.768261\n",
      "Fold 4 Recall 0.363772\n",
      "Fold 4 F1 score 0.493752\n",
      "Fold 4 Kappa score 0.458804\n",
      "\n",
      "[0]\tTrain-auc:0.544456\tVal-auc:0.542187\n",
      "Multiple eval metrics have been passed: 'Val-auc' will be used for early stopping.\n",
      "\n",
      "Will train until Val-auc hasn't improved in 400 rounds.\n",
      "[500]\tTrain-auc:0.899096\tVal-auc:0.875683\n",
      "[1000]\tTrain-auc:0.917112\tVal-auc:0.888636\n",
      "[1500]\tTrain-auc:0.924153\tVal-auc:0.892524\n",
      "[2000]\tTrain-auc:0.927612\tVal-auc:0.89348\n",
      "[2500]\tTrain-auc:0.929253\tVal-auc:0.89373\n",
      "Stopping. Best iteration:\n",
      "[2445]\tTrain-auc:0.929118\tVal-auc:0.893766\n",
      "\n",
      "\n",
      "Fold 5 AUC 0.893720 & std 0.166325\n",
      "Fold 5 Precision 0.751613\n",
      "Fold 5 Recall 0.347848\n",
      "Fold 5 F1 score 0.475591\n",
      "Fold 5 Kappa score 0.439986\n",
      "\n",
      "\n",
      "CV AUC score 0.897289 & std 0.169556\n",
      "CV Precision score 0.756514\n",
      "CV Recall score 0.364066\n",
      "CV F1 score 0.491569\n",
      "CV Kappa score 0.456051\n"
     ]
    }
   ],
   "source": [
    "%%time\n",
    "\n",
    "oof_preds = np.zeros(train_df.shape[0])\n",
    "sub_preds = np.zeros(test_df.shape[0])\n",
    "\n",
    "feature_importance_df = pd.DataFrame()\n",
    "folds.n_splits = 5;\n",
    "\n",
    "for n_fold, (trn_idx, val_idx) in enumerate(folds.split(train_df, y_train)):\n",
    "    \n",
    "    trn_x, trn_y = train_df[train_cols].iloc[trn_idx], y_train.iloc[trn_idx]\n",
    "    val_x, val_y = train_df[train_cols].iloc[val_idx], y_train.iloc[val_idx]\n",
    "    \n",
    "    dtrain = xgb.DMatrix(trn_x, trn_y, feature_names=trn_x.columns) # load train\n",
    "    dval = xgb.DMatrix(val_x, val_y, feature_names=val_x.columns)   # load validation\n",
    "    \n",
    "    clf = xgb.train(params=params, dtrain=dtrain, num_boost_round=4000, evals=[(dtrain, \"Train\"), (dval, \"Val\")],\n",
    "        verbose_eval= 100, early_stopping_rounds=50) # classifier\n",
    "       \n",
    "    oof_preds[val_idx] = clf.predict(xgb.DMatrix(val_x))  # prediction of validation\n",
    "    sub_preds += clf.predict(xgb.DMatrix(test_df[train_cols])) / folds.n_splits\n",
    "    # In a for loop every iteration we predict test data and append it to the list.\n",
    "    # So we have predicted test data for n times and got mean value for test predictions.\n",
    "\n",
    "    fold_importance_df = pd.DataFrame()\n",
    "    fold_importance_df[\"feature\"] = pd.DataFrame.from_dict(data=clf.get_fscore(), orient=\"index\", columns=[\"FScore\"])[\"FScore\"].index\n",
    "    fold_importance_df[\"fscore\"] = pd.DataFrame.from_dict(data=clf.get_fscore(), orient=\"index\", columns=[\"FScore\"])[\"FScore\"].values\n",
    "    fold_importance_df[\"fold\"] = n_fold + 1\n",
    "    feature_importance_df = pd.concat([feature_importance_df, fold_importance_df], axis=0)\n",
    "\n",
    "    print('\\nFold %1d AUC %.6f & std %.6f' %(n_fold + 1, roc_auc_score(val_y, oof_preds[val_idx]), np.std([oof_preds[val_idx]])))\n",
    "    print('Fold %1d Precision %.6f' %(n_fold + 1, precision_score(val_y, np.round(oof_preds[val_idx])) ))\n",
    "    print('Fold %1d Recall %.6f' %(n_fold + 1, recall_score(val_y, np.round(oof_preds[val_idx]) )))\n",
    "    print('Fold %1d F1 score %.6f' % (n_fold + 1,f1_score(val_y, np.round(oof_preds[val_idx]))))\n",
    "    print('Fold %1d Kappa score %.6f\\n' % (n_fold + 1,cohen_kappa_score(val_y, np.round(oof_preds[val_idx]))))\n",
    "    gc.collect()\n",
    "\n",
    "print('\\nCV AUC score %.6f & std %.6f' % (roc_auc_score(y_train, oof_preds), np.std((oof_preds))))\n",
    "print('CV Precision score %.6f' % (precision_score(y_train, np.round(oof_preds))))\n",
    "print('CV Recall score %.6f' % (recall_score(y_train, np.round(oof_preds))))\n",
    "print('CV F1 score %.6f' % (f1_score(y_train, np.round(oof_preds))))\n",
    "print('CV Kappa score %.6f' % (cohen_kappa_score(y_train, np.round(oof_preds))))"
   ]
  },
  {
   "cell_type": "code",
   "execution_count": 18,
   "metadata": {
    "_uuid": "f4e0351e3d1cee6bd415f7f8fad9fe8bfce33ca4"
   },
   "outputs": [
    {
     "data": {
      "text/plain": [
       "0.897288546154305"
      ]
     },
     "execution_count": 18,
     "metadata": {},
     "output_type": "execute_result"
    }
   ],
   "source": [
    "oof_roc = roc_auc_score(y_train, oof_preds)\n",
    "oof_roc "
   ]
  },
  {
   "cell_type": "code",
   "execution_count": 21,
   "metadata": {},
   "outputs": [
    {
     "name": "stdout",
     "output_type": "stream",
     "text": [
      "xgb 5Fold 0.897289\n"
     ]
    }
   ],
   "source": [
    "print(\"xgb %sFold %.6f\"%(folds.n_splits, oof_roc))"
   ]
  }
 ],
 "metadata": {
  "kernelspec": {
   "display_name": "Python 3",
   "language": "python",
   "name": "python3"
  },
  "language_info": {
   "codemirror_mode": {
    "name": "ipython",
    "version": 3
   },
   "file_extension": ".py",
   "mimetype": "text/x-python",
   "name": "python",
   "nbconvert_exporter": "python",
   "pygments_lexer": "ipython3",
   "version": "3.6.7"
  }
 },
 "nbformat": 4,
 "nbformat_minor": 1
}
