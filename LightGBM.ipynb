{
 "cells": [
  {
   "cell_type": "code",
   "execution_count": 1,
   "metadata": {},
   "outputs": [
    {
     "name": "stderr",
     "output_type": "stream",
     "text": [
      "/anaconda3/lib/python3.6/site-packages/lightgbm/__init__.py:46: UserWarning: Starting from version 2.2.1, the library file in distribution wheels for macOS is built by the Apple Clang (Xcode_8.3.3) compiler.\n",
      "This means that in case of installing LightGBM from PyPI via the ``pip install lightgbm`` command, you don't need to install the gcc compiler anymore.\n",
      "Instead of that, you need to install the OpenMP library, which is required for running LightGBM on the system with the Apple Clang compiler.\n",
      "You can install the OpenMP library by the following command: ``brew install libomp``.\n",
      "  \"You can install the OpenMP library by the following command: ``brew install libomp``.\", UserWarning)\n"
     ]
    }
   ],
   "source": [
    "import numpy as np\n",
    "import pandas as pd\n",
    "import lightgbm as lgb\n",
    "from sklearn.metrics import mean_squared_error\n",
    "from sklearn.metrics import roc_auc_score\n",
    "from sklearn.model_selection import StratifiedKFold\n",
    "import warnings\n",
    "warnings.filterwarnings('ignore')"
   ]
  },
  {
   "cell_type": "code",
   "execution_count": 2,
   "metadata": {},
   "outputs": [
    {
     "name": "stdout",
     "output_type": "stream",
     "text": [
      "Loading dataframes into memory\n",
      "Separating output column\n",
      "Creating Parameter Grid\n"
     ]
    }
   ],
   "source": [
    "print('Loading dataframes into memory')\n",
    "train_df = pd.read_csv('train.csv') # reading train\n",
    "test_df = pd.read_csv('test.csv') # reading test\n",
    "features = [c for c in train_df.columns if c not in ['ID_code', 'target']]\n",
    "print('Separating output column')\n",
    "target = train_df['target']\n",
    "print('Creating Parameter Grid')\n",
    "param = {\n",
    "    'bagging_freq': 5,          'bagging_fraction': 0.335,   'boost_from_average':'false',   'boost': 'gbdt',\n",
    "    'feature_fraction': 0.041,   'learning_rate': 0.0083,     'max_depth': -1,                'metric':'auc',\n",
    "    'min_data_in_leaf': 80,     'min_sum_hessian_in_leaf': 10.0,'num_leaves': 13,           'num_threads': 8,\n",
    "    'tree_learner': 'serial',   'objective': 'binary',      'verbosity': 1\n",
    "}\n"
   ]
  },
  {
   "cell_type": "code",
   "execution_count": 3,
   "metadata": {},
   "outputs": [],
   "source": [
    "num_folds = 15\n",
    "folds = StratifiedKFold(n_splits=num_folds, shuffle=False, random_state=2319)\n",
    "oof = np.zeros(len(train_df))\n",
    "predictions = np.zeros(len(test_df))"
   ]
  },
  {
   "cell_type": "code",
   "execution_count": 4,
   "metadata": {},
   "outputs": [
    {
     "name": "stdout",
     "output_type": "stream",
     "text": [
      "Starting cross-validation:\n",
      "Fold idx:1\n",
      "Training until validation scores don't improve for 40000 rounds.\n",
      "[50000]\ttraining's auc: 0.995612\tvalid_1's auc: 0.899221\n",
      "Early stopping, best iteration is:\n",
      "[13652]\ttraining's auc: 0.949293\tvalid_1's auc: 0.902555\n",
      "Fold idx:2\n",
      "Training until validation scores don't improve for 40000 rounds.\n",
      "[50000]\ttraining's auc: 0.995653\tvalid_1's auc: 0.890944\n",
      "Early stopping, best iteration is:\n",
      "[12768]\ttraining's auc: 0.947515\tvalid_1's auc: 0.894456\n",
      "Fold idx:3\n",
      "Training until validation scores don't improve for 40000 rounds.\n",
      "[50000]\ttraining's auc: 0.995481\tvalid_1's auc: 0.898449\n",
      "Early stopping, best iteration is:\n",
      "[10509]\ttraining's auc: 0.941111\tvalid_1's auc: 0.903688\n",
      "Fold idx:4\n",
      "Training until validation scores don't improve for 40000 rounds.\n",
      "Early stopping, best iteration is:\n",
      "[9805]\ttraining's auc: 0.940256\tvalid_1's auc: 0.88855\n",
      "Fold idx:5\n",
      "Training until validation scores don't improve for 40000 rounds.\n",
      "[50000]\ttraining's auc: 0.995589\tvalid_1's auc: 0.905177\n",
      "Early stopping, best iteration is:\n",
      "[10889]\ttraining's auc: 0.942067\tvalid_1's auc: 0.909025\n",
      "Fold idx:6\n",
      "Training until validation scores don't improve for 40000 rounds.\n",
      "[50000]\ttraining's auc: 0.995584\tvalid_1's auc: 0.890655\n",
      "Early stopping, best iteration is:\n",
      "[13120]\ttraining's auc: 0.948411\tvalid_1's auc: 0.893602\n",
      "Fold idx:7\n",
      "Training until validation scores don't improve for 40000 rounds.\n",
      "[50000]\ttraining's auc: 0.995568\tvalid_1's auc: 0.896657\n",
      "Early stopping, best iteration is:\n",
      "[10477]\ttraining's auc: 0.941239\tvalid_1's auc: 0.900728\n",
      "Fold idx:8\n",
      "Training until validation scores don't improve for 40000 rounds.\n",
      "[50000]\ttraining's auc: 0.995664\tvalid_1's auc: 0.896457\n",
      "Early stopping, best iteration is:\n",
      "[10240]\ttraining's auc: 0.94063\tvalid_1's auc: 0.901181\n",
      "Fold idx:9\n",
      "Training until validation scores don't improve for 40000 rounds.\n",
      "[50000]\ttraining's auc: 0.995555\tvalid_1's auc: 0.900345\n",
      "Early stopping, best iteration is:\n",
      "[10169]\ttraining's auc: 0.940269\tvalid_1's auc: 0.90475\n",
      "Fold idx:10\n",
      "Training until validation scores don't improve for 40000 rounds.\n",
      "Early stopping, best iteration is:\n",
      "[7529]\ttraining's auc: 0.932883\tvalid_1's auc: 0.901641\n",
      "Fold idx:11\n",
      "Training until validation scores don't improve for 40000 rounds.\n",
      "[50000]\ttraining's auc: 0.995596\tvalid_1's auc: 0.895141\n",
      "Early stopping, best iteration is:\n",
      "[11927]\ttraining's auc: 0.945187\tvalid_1's auc: 0.898745\n",
      "Fold idx:12\n",
      "Training until validation scores don't improve for 40000 rounds.\n",
      "[50000]\ttraining's auc: 0.995515\tvalid_1's auc: 0.899369\n",
      "Early stopping, best iteration is:\n",
      "[10940]\ttraining's auc: 0.942374\tvalid_1's auc: 0.903184\n",
      "Fold idx:13\n",
      "Training until validation scores don't improve for 40000 rounds.\n",
      "[50000]\ttraining's auc: 0.995563\tvalid_1's auc: 0.899884\n",
      "Early stopping, best iteration is:\n",
      "[10154]\ttraining's auc: 0.940266\tvalid_1's auc: 0.904006\n",
      "Fold idx:14\n",
      "Training until validation scores don't improve for 40000 rounds.\n",
      "[50000]\ttraining's auc: 0.99555\tvalid_1's auc: 0.908687\n",
      "Early stopping, best iteration is:\n",
      "[14413]\ttraining's auc: 0.950879\tvalid_1's auc: 0.912163\n",
      "Fold idx:15\n",
      "Training until validation scores don't improve for 40000 rounds.\n",
      "Early stopping, best iteration is:\n",
      "[9854]\ttraining's auc: 0.939976\tvalid_1's auc: 0.895953\n",
      "CV score: 0.90079 \n"
     ]
    }
   ],
   "source": [
    "%%time\n",
    "print('Starting cross-validation:')\n",
    "for fold_, (trn_idx, val_idx) in enumerate(folds.split(train_df.values, target.values)):\n",
    "    print(\"Fold idx:{}\".format(fold_ + 1))\n",
    "    trn_data = lgb.Dataset(train_df.iloc[trn_idx][features], label=target.iloc[trn_idx])\n",
    "    val_data = lgb.Dataset(train_df.iloc[val_idx][features], label=target.iloc[val_idx])\n",
    "    clf = lgb.train(param, trn_data, 1000000, valid_sets = [trn_data, val_data], verbose_eval=5000, early_stopping_rounds = 4000)\n",
    "    oof[val_idx] = clf.predict(train_df.iloc[val_idx][features], num_iteration=clf.best_iteration)\n",
    "    predictions += clf.predict(test_df[features], num_iteration=clf.best_iteration) / folds.n_splits\n",
    "print(\"CV score: {:<8.5f}\".format(roc_auc_score(target, oof)))"
   ]
  },
  {
   "cell_type": "code",
   "execution_count": 5,
   "metadata": {},
   "outputs": [
    {
     "name": "stdout",
     "output_type": "stream",
     "text": [
      "Writing results to a text file\n"
     ]
    }
   ],
   "source": [
    "print('Writing results to a text file')\n",
    "sub = pd.DataFrame({\"ID_code\": test_df.ID_code.values})\n",
    "sub[\"target\"] = predictions\n",
    "sub.to_csv('lgbm_submission.csv', index=False)"
   ]
  },
  {
   "cell_type": "code",
   "execution_count": null,
   "metadata": {},
   "outputs": [],
   "source": []
  }
 ],
 "metadata": {
  "kernelspec": {
   "display_name": "Python 3",
   "language": "python",
   "name": "python3"
  },
  "language_info": {
   "codemirror_mode": {
    "name": "ipython",
    "version": 3
   },
   "file_extension": ".py",
   "mimetype": "text/x-python",
   "name": "python",
   "nbconvert_exporter": "python",
   "pygments_lexer": "ipython3",
   "version": "3.6.7"
  }
 },
 "nbformat": 4,
 "nbformat_minor": 2
}
